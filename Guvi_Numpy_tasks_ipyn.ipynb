{
  "cells": [
    {
      "cell_type": "markdown",
      "metadata": {
        "id": "view-in-github",
        "colab_type": "text"
      },
      "source": [
        "<a href=\"https://colab.research.google.com/github/premkumarkora/Guvi-Numpy_tasks/blob/main/Guvi_Numpy_tasks_ipyn.ipynb\" target=\"_parent\"><img src=\"https://colab.research.google.com/assets/colab-badge.svg\" alt=\"Open In Colab\"/></a>"
      ]
    },
    {
      "cell_type": "markdown",
      "metadata": {
        "id": "XSzZT63cFNut"
      },
      "source": [
        "# Numpy\n",
        "\n"
      ]
    },
    {
      "cell_type": "markdown",
      "metadata": {
        "id": "9PuhD9xEFNuz"
      },
      "source": [
        "#### 1. Import the numpy package under the name `np` (★☆☆) \n",
        "(**hint**: import … as …)"
      ]
    },
    {
      "cell_type": "code",
      "execution_count": 97,
      "metadata": {
        "collapsed": true,
        "id": "Lxj_2BMrFNu1",
        "colab": {
          "base_uri": "https://localhost:8080/"
        },
        "outputId": "9825e651-e8c7-45e5-ba01-50ac208d5a27"
      },
      "outputs": [
        {
          "output_type": "stream",
          "name": "stdout",
          "text": [
            "Mounted at /content/drive\n"
          ]
        }
      ],
      "source": [
        "import numpy as np\n",
        "from google.colab import drive\n",
        "drive.mount('/content/drive')"
      ]
    },
    {
      "cell_type": "markdown",
      "metadata": {
        "id": "Qe9n44P4FNu1"
      },
      "source": [
        "#### 2. Print the numpy version and the configuration (★☆☆) \n",
        "(**hint**: np.\\_\\_version\\_\\_, np.show\\_config)"
      ]
    },
    {
      "cell_type": "code",
      "execution_count": null,
      "metadata": {
        "id": "i6EjWN-MFNu2",
        "colab": {
          "base_uri": "https://localhost:8080/"
        },
        "outputId": "cefcd7df-d98e-4b18-b4ee-1ed4413e6ed3"
      },
      "outputs": [
        {
          "output_type": "stream",
          "name": "stdout",
          "text": [
            "1.21.6\n",
            "<function show at 0x7f36da542290>\n"
          ]
        }
      ],
      "source": [
        "print(np.__version__)\n",
        "print(np.show_config)\n"
      ]
    },
    {
      "cell_type": "markdown",
      "metadata": {
        "id": "0IXYilshFNu2"
      },
      "source": [
        "#### 3. Create a null vector of size 10 (★☆☆) \n",
        "(**hint**: np.zeros)"
      ]
    },
    {
      "cell_type": "code",
      "execution_count": null,
      "metadata": {
        "id": "OlYb3jetFNu3",
        "colab": {
          "base_uri": "https://localhost:8080/"
        },
        "outputId": "1cef7b18-89a7-4af3-cf3e-1fe25a2d283a"
      },
      "outputs": [
        {
          "output_type": "stream",
          "name": "stdout",
          "text": [
            "[0. 0. 0. 0. 0. 0. 0. 0. 0. 0.]\n"
          ]
        }
      ],
      "source": [
        "nullVector_=np.zeros(10)\n",
        "print(nullVector_)"
      ]
    },
    {
      "cell_type": "markdown",
      "metadata": {
        "id": "koijQ9gxFNu4"
      },
      "source": [
        "#### 4.  How to find the memory size of any array (★☆☆) \n",
        "(**hint**: size, itemsize)"
      ]
    },
    {
      "cell_type": "code",
      "execution_count": null,
      "metadata": {
        "id": "1jGTZsEVFNu4",
        "colab": {
          "base_uri": "https://localhost:8080/"
        },
        "outputId": "387d929b-fb61-4873-9d3f-3873c0efc42b"
      },
      "outputs": [
        {
          "output_type": "stream",
          "name": "stdout",
          "text": [
            "Size of Array : 10\n",
            "Byte Size : 8\n"
          ]
        }
      ],
      "source": [
        "print(\"Size of Array :\", np.size(nullVector_))\n",
        "print(\"Byte Size :\", nullVector_.itemsize)"
      ]
    },
    {
      "cell_type": "markdown",
      "metadata": {
        "id": "9s7AS1OLFNu5"
      },
      "source": [
        "#### 5.  How to get the documentation of the numpy add function from the command line? (★☆☆) \n",
        "(**hint**: np.info)"
      ]
    },
    {
      "cell_type": "code",
      "execution_count": null,
      "metadata": {
        "collapsed": true,
        "id": "-K2wVmBhFNu5",
        "colab": {
          "base_uri": "https://localhost:8080/"
        },
        "outputId": "ed2f5417-25a7-40e2-d057-3b456f3749c6"
      },
      "outputs": [
        {
          "output_type": "stream",
          "name": "stdout",
          "text": [
            "add(x1, x2, /, out=None, *, where=True, casting='same_kind', order='K', dtype=None, subok=True[, signature, extobj])\n",
            "\n",
            "Add arguments element-wise.\n",
            "\n",
            "Parameters\n",
            "----------\n",
            "x1, x2 : array_like\n",
            "    The arrays to be added.\n",
            "    If ``x1.shape != x2.shape``, they must be broadcastable to a common\n",
            "    shape (which becomes the shape of the output).\n",
            "out : ndarray, None, or tuple of ndarray and None, optional\n",
            "    A location into which the result is stored. If provided, it must have\n",
            "    a shape that the inputs broadcast to. If not provided or None,\n",
            "    a freshly-allocated array is returned. A tuple (possible only as a\n",
            "    keyword argument) must have length equal to the number of outputs.\n",
            "where : array_like, optional\n",
            "    This condition is broadcast over the input. At locations where the\n",
            "    condition is True, the `out` array will be set to the ufunc result.\n",
            "    Elsewhere, the `out` array will retain its original value.\n",
            "    Note that if an uninitialized `out` array is created via the default\n",
            "    ``out=None``, locations within it where the condition is False will\n",
            "    remain uninitialized.\n",
            "**kwargs\n",
            "    For other keyword-only arguments, see the\n",
            "    :ref:`ufunc docs <ufuncs.kwargs>`.\n",
            "\n",
            "Returns\n",
            "-------\n",
            "add : ndarray or scalar\n",
            "    The sum of `x1` and `x2`, element-wise.\n",
            "    This is a scalar if both `x1` and `x2` are scalars.\n",
            "\n",
            "Notes\n",
            "-----\n",
            "Equivalent to `x1` + `x2` in terms of array broadcasting.\n",
            "\n",
            "Examples\n",
            "--------\n",
            ">>> np.add(1.0, 4.0)\n",
            "5.0\n",
            ">>> x1 = np.arange(9.0).reshape((3, 3))\n",
            ">>> x2 = np.arange(3.0)\n",
            ">>> np.add(x1, x2)\n",
            "array([[  0.,   2.,   4.],\n",
            "       [  3.,   5.,   7.],\n",
            "       [  6.,   8.,  10.]])\n",
            "\n",
            "The ``+`` operator can be used as a shorthand for ``np.add`` on ndarrays.\n",
            "\n",
            ">>> x1 = np.arange(9.0).reshape((3, 3))\n",
            ">>> x2 = np.arange(3.0)\n",
            ">>> x1 + x2\n",
            "array([[ 0.,  2.,  4.],\n",
            "       [ 3.,  5.,  7.],\n",
            "       [ 6.,  8., 10.]])\n"
          ]
        }
      ],
      "source": [
        "np.info(np.add)"
      ]
    },
    {
      "cell_type": "markdown",
      "metadata": {
        "id": "F1QgaePCFNu6"
      },
      "source": [
        "#### 6.  Create a null vector of size 10 but the fifth value which is 1 (★☆☆) \n",
        "(**hint**: array\\[4\\])"
      ]
    },
    {
      "cell_type": "code",
      "execution_count": null,
      "metadata": {
        "id": "KpEx7cRxFNu6",
        "colab": {
          "base_uri": "https://localhost:8080/"
        },
        "outputId": "d8a04db2-8a02-4927-c7b8-0d867ee78702"
      },
      "outputs": [
        {
          "output_type": "stream",
          "name": "stdout",
          "text": [
            "[0. 0. 0. 0. 1. 0. 0. 0. 0. 0.]\n"
          ]
        }
      ],
      "source": [
        "nullVector1_=np.zeros(10)\n",
        "nullVector1_[4]=1\n",
        "print(nullVector1_)"
      ]
    },
    {
      "cell_type": "markdown",
      "metadata": {
        "id": "IWj_dv8SFNu7"
      },
      "source": [
        "#### 7.  Create a vector with values ranging from 10 to 49 (★☆☆) \n",
        "(**hint**: np.arange)"
      ]
    },
    {
      "cell_type": "code",
      "execution_count": null,
      "metadata": {
        "id": "TUzd6-0iFNu7",
        "colab": {
          "base_uri": "https://localhost:8080/"
        },
        "outputId": "e0c6d205-09c6-45d7-e27b-818f505e621f"
      },
      "outputs": [
        {
          "output_type": "stream",
          "name": "stdout",
          "text": [
            "[10 11 12 13 14 15 16 17 18 19 20 21 22 23 24 25 26 27 28 29 30 31 32 33\n",
            " 34 35 36 37 38 39 40 41 42 43 44 45 46 47 48]\n"
          ]
        }
      ],
      "source": [
        "arr= np.arange(10,49)\n",
        "print(arr)"
      ]
    },
    {
      "cell_type": "markdown",
      "metadata": {
        "id": "C6NQxGPkFNu7"
      },
      "source": [
        "#### 8.  Reverse a vector (first element becomes last) (★☆☆) \n",
        "(**hint**: array\\[::-1\\])"
      ]
    },
    {
      "cell_type": "code",
      "execution_count": null,
      "metadata": {
        "id": "-9-hGIxGFNu8",
        "colab": {
          "base_uri": "https://localhost:8080/"
        },
        "outputId": "b860f397-df47-4e47-895b-372b7ff9ed72"
      },
      "outputs": [
        {
          "output_type": "stream",
          "name": "stdout",
          "text": [
            "[48 47 46 45 44 43 42 41 40 39 38 37 36 35 34 33 32 31 30 29 28 27 26 25\n",
            " 24 23 22 21 20 19 18 17 16 15 14 13 12 11 10]\n"
          ]
        }
      ],
      "source": [
        "print(arr[::-1])"
      ]
    },
    {
      "cell_type": "markdown",
      "metadata": {
        "id": "FnHWL24QFNu8"
      },
      "source": [
        "#### 9.  Create a 3x3 matrix with values ranging from 0 to 8 (★☆☆) \n",
        "(**hint**: reshape)"
      ]
    },
    {
      "cell_type": "code",
      "execution_count": null,
      "metadata": {
        "id": "gUondPztFNu8",
        "colab": {
          "base_uri": "https://localhost:8080/"
        },
        "outputId": "1d23ebb7-a4d0-4941-886b-a2e2996e9cd4"
      },
      "outputs": [
        {
          "output_type": "stream",
          "name": "stdout",
          "text": [
            "[[0 1 2]\n",
            " [3 4 5]\n",
            " [6 7 8]]\n"
          ]
        }
      ],
      "source": [
        "arr2d = np.array([\n",
        "    [0,1,2],\n",
        "    [3,4,5],\n",
        "    [6,7,8]\n",
        "])\n",
        "print(arr2d)"
      ]
    },
    {
      "cell_type": "markdown",
      "metadata": {
        "id": "y93ZFCgKFNu8"
      },
      "source": [
        "#### 10. Find indices of non-zero elements from \\[1,2,0,0,4,0\\] (★☆☆) \n",
        "(**hint**: np.nonzero)"
      ]
    },
    {
      "cell_type": "code",
      "execution_count": null,
      "metadata": {
        "id": "_XBLTms3FNu9",
        "colab": {
          "base_uri": "https://localhost:8080/"
        },
        "outputId": "a6bb3194-6efc-423e-b117-48287388ce22"
      },
      "outputs": [
        {
          "output_type": "stream",
          "name": "stdout",
          "text": [
            "[0 1 4]\n"
          ]
        }
      ],
      "source": [
        "arrind=[1,2,0,0,4,0] \n",
        "print(*np.nonzero(arrind))"
      ]
    },
    {
      "cell_type": "markdown",
      "metadata": {
        "id": "ypv4Rqb4FNu9"
      },
      "source": [
        "#### 11. Create a 3x3 identity matrix (★☆☆) \n",
        "(**hint**: np.eye)"
      ]
    },
    {
      "cell_type": "code",
      "execution_count": null,
      "metadata": {
        "id": "MpsHK7Y2FNu9",
        "colab": {
          "base_uri": "https://localhost:8080/"
        },
        "outputId": "877d97ef-9463-4408-ea1d-89bb90b80b9e"
      },
      "outputs": [
        {
          "output_type": "stream",
          "name": "stdout",
          "text": [
            "[[1. 0. 0.]\n",
            " [0. 1. 0.]\n",
            " [0. 0. 1.]]\n"
          ]
        }
      ],
      "source": [
        "arrid = np.eye(3,3)\n",
        "print(arrid)"
      ]
    },
    {
      "cell_type": "markdown",
      "metadata": {
        "id": "P_rjXfZbFNu9"
      },
      "source": [
        "#### 12. Create a 3x3x3 array with random values (★☆☆) \n",
        "(**hint**: np.random.random)"
      ]
    },
    {
      "cell_type": "code",
      "execution_count": null,
      "metadata": {
        "collapsed": true,
        "id": "p2dJ8CRPFNu-",
        "colab": {
          "base_uri": "https://localhost:8080/"
        },
        "outputId": "547a5b36-ce9a-4fe0-d3c7-6603f3a48f19"
      },
      "outputs": [
        {
          "output_type": "stream",
          "name": "stdout",
          "text": [
            "[[[0.93074175 0.44487754 0.05702631]\n",
            "  [0.33032262 0.72663459 0.90349062]\n",
            "  [0.67671799 0.75078927 0.2971815 ]]\n",
            "\n",
            " [[0.63302428 0.35114231 0.88261501]\n",
            "  [0.00135261 0.70020782 0.18017798]\n",
            "  [0.37595127 0.44052798 0.65886674]]\n",
            "\n",
            " [[0.70570423 0.29953487 0.4821336 ]\n",
            "  [0.16843348 0.40829676 0.63378805]\n",
            "  [0.1325962  0.46653464 0.94898603]]]\n"
          ]
        }
      ],
      "source": [
        "arr3by3 = np.random.random((3,3,3))\n",
        "print(arr3by3)"
      ]
    },
    {
      "cell_type": "markdown",
      "metadata": {
        "id": "HsrN7qqTFNu-"
      },
      "source": [
        "#### 13. Create a 10x10 array with random values and find the minimum and maximum values (★☆☆) \n",
        "(**hint**: min, max)"
      ]
    },
    {
      "cell_type": "code",
      "execution_count": null,
      "metadata": {
        "id": "vzndPgFvFNu-",
        "colab": {
          "base_uri": "https://localhost:8080/"
        },
        "outputId": "eb815fc9-36d4-4405-988f-92e6cc3780f7"
      },
      "outputs": [
        {
          "output_type": "stream",
          "name": "stdout",
          "text": [
            "Max : 0.960883868595248\n",
            "Min : 0.0034503510305980978\n"
          ]
        }
      ],
      "source": [
        "arr10by10 = np.random.random((10,10))\n",
        "#print(arr10by10)\n",
        "print(\"Max :\", arr10by10.max())\n",
        "print(\"Min :\", arr10by10.min())"
      ]
    },
    {
      "cell_type": "markdown",
      "metadata": {
        "id": "KMrKVu8OFNu-"
      },
      "source": [
        "#### 14. Create a random vector of size 30 and find the mean value (★☆☆) \n",
        "(**hint**: mean)"
      ]
    },
    {
      "cell_type": "code",
      "execution_count": null,
      "metadata": {
        "id": "3XTKdI0rFNu-",
        "colab": {
          "base_uri": "https://localhost:8080/"
        },
        "outputId": "a2121664-9574-4581-f341-694d217cbd60"
      },
      "outputs": [
        {
          "output_type": "stream",
          "name": "stdout",
          "text": [
            "Mean : 0.5394262600633908\n"
          ]
        }
      ],
      "source": [
        "arrsize30 = np.random.random(30)\n",
        "print(\"Mean :\",arrsize30.mean())"
      ]
    },
    {
      "cell_type": "markdown",
      "metadata": {
        "id": "JFscJGhWFNu-"
      },
      "source": [
        "#### 15. Create a 2d array with 1 on the border and 0 inside (★☆☆) \n",
        "(**hint**: array\\[1:-1, 1:-1\\])"
      ]
    },
    {
      "cell_type": "code",
      "execution_count": null,
      "metadata": {
        "id": "qyOat5-pFNu_",
        "colab": {
          "base_uri": "https://localhost:8080/"
        },
        "outputId": "12a3124a-4c30-4d65-b44e-8a005831da85"
      },
      "outputs": [
        {
          "output_type": "stream",
          "name": "stdout",
          "text": [
            "[[1. 1. 1. 1. 1.]\n",
            " [1. 0. 0. 0. 1.]\n",
            " [1. 0. 0. 0. 1.]\n",
            " [1. 0. 0. 0. 1.]\n",
            " [1. 1. 1. 1. 1.]]\n"
          ]
        }
      ],
      "source": [
        "arrbod=np.ones((5,5))\n",
        "arrbod[1:-1, 1:-1]=0\n",
        "print(arrbod)"
      ]
    },
    {
      "cell_type": "markdown",
      "metadata": {
        "id": "Qu3KNr_bFNu_"
      },
      "source": [
        "#### 16. How to add a border (filled with 0's) around an existing array? (★☆☆) \n",
        "(**hint**: np.pad)"
      ]
    },
    {
      "cell_type": "code",
      "execution_count": null,
      "metadata": {
        "id": "cZ_vTcCcFNu_",
        "colab": {
          "base_uri": "https://localhost:8080/"
        },
        "outputId": "c75a9cb4-8526-4c47-8207-99b09d276fbb"
      },
      "outputs": [
        {
          "output_type": "stream",
          "name": "stdout",
          "text": [
            "[[1. 1. 1. 1. 2.]\n",
            " [1. 0. 0. 0. 2.]\n",
            " [1. 0. 0. 0. 2.]\n",
            " [1. 0. 0. 0. 2.]\n",
            " [1. 2. 2. 2. 2.]]\n"
          ]
        }
      ],
      "source": [
        "zeroBorder = np.zeros((3,3))\n",
        "print(np.pad(zeroBorder, (1, 1), 'constant', constant_values=(1, 2))) # I have padded one's before the row and col / 2 ater row and col\n"
      ]
    },
    {
      "cell_type": "markdown",
      "metadata": {
        "id": "2CX0ybraFNu_"
      },
      "source": [
        "#### 17. What is the result of the following expression? (★☆☆) \n",
        "(**hint**: NaN = not a number, inf = infinity)"
      ]
    },
    {
      "cell_type": "markdown",
      "metadata": {
        "id": "hzjRHreUFNu_"
      },
      "source": [
        "```python\n",
        "0 * np.nan\n",
        "np.nan == np.nan\n",
        "np.inf > np.nan\n",
        "np.nan - np.nan\n",
        "0.3 == 3 * 0.1\n",
        "```"
      ]
    },
    {
      "cell_type": "code",
      "execution_count": 112,
      "metadata": {
        "id": "eoUfO9OcFNvA",
        "colab": {
          "base_uri": "https://localhost:8080/"
        },
        "outputId": "ab666df8-0e80-42c3-dc48-4f63fa48e189"
      },
      "outputs": [
        {
          "output_type": "stream",
          "name": "stdout",
          "text": [
            "nan\n",
            "False\n",
            "False\n",
            "nan\n",
            "True\n",
            "False\n"
          ]
        }
      ],
      "source": [
        "print(0 * np.nan)\n",
        "print(np.nan == np.nan)\n",
        "print(np.inf > np.nan)\n",
        "print(np.nan - np.nan)\n",
        "print(np.nan in set([np.nan]))\n",
        "print(0.3 == 3 * 0.1)"
      ]
    },
    {
      "cell_type": "markdown",
      "metadata": {
        "id": "pcTpxeCtFNvA"
      },
      "source": [
        "#### 18. Create a 5x5 matrix with values 1,2,3,4 just below the diagonal (★☆☆) \n",
        "(**hint**: np.diag)"
      ]
    },
    {
      "cell_type": "code",
      "execution_count": null,
      "metadata": {
        "id": "df2QkR7VFNvB",
        "colab": {
          "base_uri": "https://localhost:8080/"
        },
        "outputId": "981cdb43-2070-4035-e1ef-414116fae8f8"
      },
      "outputs": [
        {
          "output_type": "stream",
          "name": "stdout",
          "text": [
            "[[0 0 0 0 0]\n",
            " [1 0 0 0 0]\n",
            " [0 2 0 0 0]\n",
            " [0 0 3 0 0]\n",
            " [0 0 0 4 0]]\n"
          ]
        }
      ],
      "source": [
        "Z = np.diag(1+np.arange(4), k = -1)\n",
        "print (Z)\n"
      ]
    },
    {
      "cell_type": "markdown",
      "metadata": {
        "id": "2gvZuL8fFNvB"
      },
      "source": [
        "#### 19. Create a 8x8 matrix and fill it with a checkerboard pattern (★☆☆) \n",
        "(**hint**: array\\[::2\\])"
      ]
    },
    {
      "cell_type": "code",
      "execution_count": null,
      "metadata": {
        "id": "tx9m-nHmFNvB",
        "colab": {
          "base_uri": "https://localhost:8080/"
        },
        "outputId": "6a85bbae-6ba0-4b2c-dc9b-fcada68119be"
      },
      "outputs": [
        {
          "output_type": "stream",
          "name": "stdout",
          "text": [
            "[[1. 1. 1. 1. 1. 1. 1. 1.]\n",
            " [1. 0. 1. 0. 1. 0. 1. 0.]\n",
            " [1. 1. 1. 1. 1. 1. 1. 1.]\n",
            " [1. 0. 1. 0. 1. 0. 1. 0.]\n",
            " [1. 1. 1. 1. 1. 1. 1. 1.]\n",
            " [1. 0. 1. 0. 1. 0. 1. 0.]\n",
            " [1. 1. 1. 1. 1. 1. 1. 1.]\n",
            " [1. 0. 1. 0. 1. 0. 1. 0.]]\n"
          ]
        }
      ],
      "source": [
        "arr8by8 = np.empty((8,8))\n",
        "arr8by8[1::2,::2] = 1\n",
        "#arr8by8[::2,::] = 1\n",
        "print(arr8by8)"
      ]
    },
    {
      "cell_type": "markdown",
      "metadata": {
        "id": "pObmjw12FNvB"
      },
      "source": [
        "#### 20. Consider a (6,7,8) shape array, what is the index (x,y,z) of the 100th element? \n",
        "(**hint**: np.unravel_index)"
      ]
    },
    {
      "cell_type": "code",
      "execution_count": 113,
      "metadata": {
        "id": "LeI_c_7EFNvC",
        "colab": {
          "base_uri": "https://localhost:8080/"
        },
        "outputId": "7dc638e1-01e3-4994-b17a-2e4edcdb8f9d"
      },
      "outputs": [
        {
          "output_type": "stream",
          "name": "stdout",
          "text": [
            "(1, 5, 3)\n"
          ]
        }
      ],
      "source": [
        "print(np.unravel_index(99,(6,7,8)))  #Converts a flat index or array of flat indices into a tuple of coordinate arrays"
      ]
    },
    {
      "cell_type": "markdown",
      "metadata": {
        "id": "jM8WveR1FNvC"
      },
      "source": [
        "#### 21. Create a checkerboard 8x8 matrix using the tile function (★☆☆) \n",
        "(**hint**: np.tile)"
      ]
    },
    {
      "cell_type": "code",
      "execution_count": 114,
      "metadata": {
        "id": "a-epLNj7FNvC",
        "colab": {
          "base_uri": "https://localhost:8080/"
        },
        "outputId": "82cbf5a6-4940-4609-c614-abb4c47f83ac"
      },
      "outputs": [
        {
          "output_type": "stream",
          "name": "stdout",
          "text": [
            "[[0 1 0 1 0 1 0 1]\n",
            " [1 0 1 0 1 0 1 0]\n",
            " [0 1 0 1 0 1 0 1]\n",
            " [1 0 1 0 1 0 1 0]\n",
            " [0 1 0 1 0 1 0 1]\n",
            " [1 0 1 0 1 0 1 0]\n",
            " [0 1 0 1 0 1 0 1]\n",
            " [1 0 1 0 1 0 1 0]]\n"
          ]
        }
      ],
      "source": [
        "checkerboardArr=np.tile(np.array([[0,1],[1,0]]),(4,4))  #Construct an array by repeating A the number of times given by reps.\n",
        "print(checkerboardArr)"
      ]
    },
    {
      "cell_type": "markdown",
      "metadata": {
        "id": "fBGmtX4PFNvC"
      },
      "source": [
        "#### 22. Normalize a 5x5 random matrix (★☆☆) \n",
        "(**hint**: (x - min) / (max - min))"
      ]
    },
    {
      "cell_type": "code",
      "execution_count": 115,
      "metadata": {
        "id": "C4Zfz-xyFNvC",
        "colab": {
          "base_uri": "https://localhost:8080/"
        },
        "outputId": "e9b8a775-8fd3-46ef-b3d0-77bb47a2bdee"
      },
      "outputs": [
        {
          "output_type": "stream",
          "name": "stdout",
          "text": [
            "[[0.104 0.673 0.148 0.603 0.048]\n",
            " [0.233 0.161 0.738 0.175 0.176]\n",
            " [0.189 0.817 0.    0.654 1.   ]\n",
            " [0.513 0.613 0.403 0.666 0.186]\n",
            " [0.309 0.549 0.681 0.306 0.653]]\n"
          ]
        }
      ],
      "source": [
        "ranArr = np.random.random((5,5))\n",
        "arrmax, arrmin = ranArr.max(), ranArr.min()\n",
        "ranArr= (ranArr-arrmin)/(arrmax-arrmin)\n",
        "print (ranArr)"
      ]
    },
    {
      "cell_type": "markdown",
      "metadata": {
        "id": "TvEEI3teFNvD"
      },
      "source": [
        "#### 23. Create a custom dtype that describes a color as four unsigned bytes (RGBA) (★☆☆) \n",
        "(**hint**: np.dtype)"
      ]
    },
    {
      "cell_type": "code",
      "execution_count": 116,
      "metadata": {
        "collapsed": true,
        "id": "tAgYneJoFNvD",
        "colab": {
          "base_uri": "https://localhost:8080/"
        },
        "outputId": "9300107a-5c57-43a3-ec07-caffeb46623d"
      },
      "outputs": [
        {
          "output_type": "stream",
          "name": "stdout",
          "text": [
            "[('r', 'u1'), ('g', 'u1'), ('b', 'u1'), ('a', 'u1')]\n"
          ]
        },
        {
          "output_type": "stream",
          "name": "stderr",
          "text": [
            "/usr/local/lib/python3.7/dist-packages/ipykernel_launcher.py:4: FutureWarning: Passing (type, 1) or '1type' as a synonym of type is deprecated; in a future version of numpy, it will be understood as (type, (1,)) / '(1,)type'.\n",
            "  after removing the cwd from sys.path.\n"
          ]
        }
      ],
      "source": [
        "color = np.dtype([(\"r\", np.ubyte, 1),\n",
        "                  (\"g\", np.ubyte, 1),\n",
        "                  (\"b\", np.ubyte, 1),\n",
        "                  (\"a\", np.ubyte, 1)])\n",
        "print(color)"
      ]
    },
    {
      "cell_type": "markdown",
      "metadata": {
        "id": "bly90YyeFNvD"
      },
      "source": [
        "#### 24. Multiply a 5x3 matrix by a 3x2 matrix (real matrix product) (★☆☆) \n",
        "(**hint**: np.dot | @)"
      ]
    },
    {
      "cell_type": "code",
      "execution_count": 118,
      "metadata": {
        "id": "AWiHJ0R1FNvD",
        "colab": {
          "base_uri": "https://localhost:8080/"
        },
        "outputId": "3ba9a0f6-c158-4529-80f2-bc702fe499a9"
      },
      "outputs": [
        {
          "output_type": "stream",
          "name": "stdout",
          "text": [
            "[[0.339 0.192]\n",
            " [0.342 0.246]\n",
            " [0.458 0.277]\n",
            " [0.193 0.173]\n",
            " [0.482 0.345]]\n"
          ]
        }
      ],
      "source": [
        "arr5by3 = np.dot(np.random.random((5,3)), np.random.random((3,2)))\n",
        "print (arr5by3)"
      ]
    },
    {
      "cell_type": "markdown",
      "metadata": {
        "id": "5HP07tzhFNvD"
      },
      "source": [
        "#### 25. Given a 1D array, negate all elements which are between 3 and 8, in place. (★☆☆) \n",
        "(**hint**: >, <=)"
      ]
    },
    {
      "cell_type": "code",
      "execution_count": 119,
      "metadata": {
        "id": "5aekS0vHFNvD",
        "colab": {
          "base_uri": "https://localhost:8080/"
        },
        "outputId": "e80c5d87-de8b-47eb-81b2-6eb79a938108"
      },
      "outputs": [
        {
          "output_type": "stream",
          "name": "stdout",
          "text": [
            "[ 0  1  2  3 -4 -5 -6 -7  8  9 10]\n"
          ]
        }
      ],
      "source": [
        "arrZ = np.arange(11)\n",
        "arrZ[(3 < arrZ) & (arrZ < 8)] *= -1\n",
        "print(arrZ)"
      ]
    },
    {
      "cell_type": "markdown",
      "metadata": {
        "id": "1Ayx2dkAFNvD"
      },
      "source": [
        "#### 26. What is the output of the following script? (★☆☆) \n",
        "(**hint**: np.sum)"
      ]
    },
    {
      "cell_type": "markdown",
      "metadata": {
        "id": "Xgbc-3xjFNvD"
      },
      "source": [
        "```python\n",
        "# Author: Jake VanderPlas\n",
        "\n",
        "print(sum(range(5),-1))\n",
        "from numpy import *\n",
        "print(sum(range(5),-1))\n",
        "```"
      ]
    },
    {
      "cell_type": "code",
      "execution_count": null,
      "metadata": {
        "id": "XjMqh2u1FNvE",
        "colab": {
          "base_uri": "https://localhost:8080/"
        },
        "outputId": "f305ec3e-ea65-484f-c41d-6a80c697129d"
      },
      "outputs": [
        {
          "output_type": "stream",
          "name": "stdout",
          "text": [
            "10\n",
            "10\n"
          ]
        }
      ],
      "source": [
        "print(sum(range(5),-1)) # uses the sum function from Python\n",
        "from numpy import *\n",
        "print(sum(range(5),-1)) # uses the sun function from numpy\n"
      ]
    },
    {
      "cell_type": "markdown",
      "metadata": {
        "id": "Yw9EGDiOFNvE"
      },
      "source": [
        "#### 27. Consider an integer vector Z, which of these expressions are legal? (★☆☆)"
      ]
    },
    {
      "cell_type": "markdown",
      "metadata": {
        "id": "TtRovxHnFNvE"
      },
      "source": [
        "```python\n",
        "Z**Z\n",
        "2 << Z >> 2\n",
        "Z <- Z\n",
        "1j*Z\n",
        "Z/1/1\n",
        "Z<Z>Z\n",
        "```"
      ]
    },
    {
      "cell_type": "code",
      "execution_count": 120,
      "metadata": {
        "id": "S0rn0f0WFNvE",
        "colab": {
          "base_uri": "https://localhost:8080/",
          "height": 166
        },
        "outputId": "b1dc2c50-a9e5-4b3f-b13a-19b5926c4f90"
      },
      "outputs": [
        {
          "output_type": "error",
          "ename": "ValueError",
          "evalue": "ignored",
          "traceback": [
            "\u001b[0;31m---------------------------------------------------------------------------\u001b[0m",
            "\u001b[0;31mValueError\u001b[0m                                Traceback (most recent call last)",
            "\u001b[0;32m<ipython-input-120-b843a00ce7e5>\u001b[0m in \u001b[0;36m<module>\u001b[0;34m\u001b[0m\n\u001b[0;32m----> 1\u001b[0;31m \u001b[0mZ\u001b[0m\u001b[0;34m<\u001b[0m\u001b[0mZ\u001b[0m\u001b[0;34m>\u001b[0m\u001b[0mZ\u001b[0m  \u001b[0;31m# illegeal Expresssion\u001b[0m\u001b[0;34m\u001b[0m\u001b[0;34m\u001b[0m\u001b[0m\n\u001b[0m",
            "\u001b[0;31mValueError\u001b[0m: The truth value of an array with more than one element is ambiguous. Use a.any() or a.all()"
          ]
        }
      ],
      "source": [
        "Z<Z>Z  # illegeal Expresssion"
      ]
    },
    {
      "cell_type": "markdown",
      "metadata": {
        "id": "ZgqWGnLSFNvE"
      },
      "source": [
        "#### 28. What are the result of the following expressions?"
      ]
    },
    {
      "cell_type": "markdown",
      "metadata": {
        "id": "tQLJGoyDFNvE"
      },
      "source": [
        "```python\n",
        "np.array(0) / np.array(0)\n",
        "np.array(0) // np.array(0)\n",
        "np.array([np.nan]).astype(int).astype(float)\n",
        "```"
      ]
    },
    {
      "cell_type": "code",
      "execution_count": 121,
      "metadata": {
        "id": "gfwaB7ZEFNvE",
        "colab": {
          "base_uri": "https://localhost:8080/"
        },
        "outputId": "bc63518c-7033-487b-991d-518bbcf4b31c"
      },
      "outputs": [
        {
          "output_type": "stream",
          "name": "stdout",
          "text": [
            "nan\n",
            "0\n",
            "[-9.223e+18]\n"
          ]
        },
        {
          "output_type": "stream",
          "name": "stderr",
          "text": [
            "/usr/local/lib/python3.7/dist-packages/ipykernel_launcher.py:1: RuntimeWarning: invalid value encountered in true_divide\n",
            "  \"\"\"Entry point for launching an IPython kernel.\n",
            "/usr/local/lib/python3.7/dist-packages/ipykernel_launcher.py:2: RuntimeWarning: divide by zero encountered in floor_divide\n",
            "  \n"
          ]
        }
      ],
      "source": [
        "print(np.array(0) / np.array(0))\n",
        "print(np.array(0) // np.array(0))\n",
        "print(np.array([np.nan]).astype(int).astype(float))"
      ]
    },
    {
      "cell_type": "markdown",
      "metadata": {
        "id": "ehra9a6EFNvF"
      },
      "source": [
        "#### 29. How to round away from zero a float array ? (★☆☆) \n",
        "(**hint**: np.uniform, np.copysign, np.ceil, np.abs)"
      ]
    },
    {
      "cell_type": "code",
      "execution_count": null,
      "metadata": {
        "id": "09ISVVWSFNvF"
      },
      "outputs": [],
      "source": []
    },
    {
      "cell_type": "markdown",
      "metadata": {
        "id": "oMc8moYLFNvF"
      },
      "source": [
        "#### 30. How to find common values between two arrays? (★☆☆) \n",
        "(**hint**: np.intersect1d)"
      ]
    },
    {
      "cell_type": "code",
      "execution_count": null,
      "metadata": {
        "id": "Y6BQD3wKFNvF",
        "colab": {
          "base_uri": "https://localhost:8080/"
        },
        "outputId": "869197dc-1840-45ea-fd73-67bd58819294"
      },
      "outputs": [
        {
          "output_type": "stream",
          "name": "stdout",
          "text": [
            "[ 2  4 10 11  1 11 11 11  4  6]\n",
            "[ 2  4 10 11  1 11 11 11  4  6]\n",
            "[ 1  2  4  6 10 11]\n"
          ]
        }
      ],
      "source": [
        "aa=np.random.randint(0,15,(10))\n",
        "bb =np.random.randint(0,15,(10))\n",
        "#print(aa)\n",
        "#print(aa)\n",
        "print(np.intersect1d(aa, aa))"
      ]
    },
    {
      "cell_type": "markdown",
      "metadata": {
        "id": "G85nzG3wFNvF"
      },
      "source": [
        "#### 31. How to ignore all numpy warnings (not recommended)? (★☆☆) \n",
        "(**hint**: np.seterr, np.errstate)"
      ]
    },
    {
      "cell_type": "code",
      "execution_count": null,
      "metadata": {
        "id": "mqlTU2YMFNvF",
        "colab": {
          "base_uri": "https://localhost:8080/"
        },
        "outputId": "f525f71f-7837-444c-c358-033008e27bae"
      },
      "outputs": [
        {
          "output_type": "execute_result",
          "data": {
            "text/plain": [
              "{'divide': 'warn', 'over': 'warn', 'under': 'ignore', 'invalid': 'warn'}"
            ]
          },
          "metadata": {},
          "execution_count": 78
        }
      ],
      "source": [
        "np.seterr(over='ignore')"
      ]
    },
    {
      "cell_type": "markdown",
      "metadata": {
        "id": "z5dVdYb0FNvF"
      },
      "source": [
        "#### 32. Is the following expressions true? (★☆☆) \n",
        "(**hint**: imaginary number)"
      ]
    },
    {
      "cell_type": "markdown",
      "metadata": {
        "id": "DuRTDod_FNvF"
      },
      "source": [
        "```python\n",
        "np.sqrt(-1) == np.emath.sqrt(-1)\n",
        "```"
      ]
    },
    {
      "cell_type": "code",
      "execution_count": null,
      "metadata": {
        "id": "Re7kWwzAFNvG"
      },
      "outputs": [],
      "source": [
        "NO"
      ]
    },
    {
      "cell_type": "markdown",
      "metadata": {
        "id": "37bGnRjsFNvG"
      },
      "source": [
        "#### 33. How to get the dates of yesterday, today and tomorrow? (★☆☆) \n",
        "(**hint**: np.datetime64, np.timedelta64)"
      ]
    },
    {
      "cell_type": "code",
      "execution_count": null,
      "metadata": {
        "collapsed": true,
        "id": "FqcVgOxUFNvG",
        "colab": {
          "base_uri": "https://localhost:8080/"
        },
        "outputId": "f8cebd05-e541-4ca9-d391-d2c04dde0497"
      },
      "outputs": [
        {
          "output_type": "stream",
          "name": "stdout",
          "text": [
            "Yesterday :  2022-10-31\n",
            "Today :  2022-11-01\n",
            "Tomorrow :  2022-11-02\n"
          ]
        }
      ],
      "source": [
        "TodayDate=np.datetime64('today', 'D')\n",
        "print(\"Yesterday : \", TodayDate-1)\n",
        "print(\"Today : \", TodayDate)\n",
        "print(\"Tomorrow : \", TodayDate+1)"
      ]
    },
    {
      "cell_type": "markdown",
      "metadata": {
        "id": "IftJAxxbFNvG"
      },
      "source": [
        "#### 34. How to get all the dates corresponding to the month of July 2016? (★★☆) \n",
        "(**hint**: np.arange(dtype=datetime64\\['D'\\]))"
      ]
    },
    {
      "cell_type": "code",
      "execution_count": null,
      "metadata": {
        "id": "OwL-3mDSFNvG",
        "colab": {
          "base_uri": "https://localhost:8080/"
        },
        "outputId": "68744095-77d6-4345-9406-cd769cc219d3"
      },
      "outputs": [
        {
          "output_type": "stream",
          "name": "stdout",
          "text": [
            "['2016-07-01' '2016-07-02' '2016-07-03' '2016-07-04' '2016-07-05'\n",
            " '2016-07-06' '2016-07-07' '2016-07-08' '2016-07-09' '2016-07-10'\n",
            " '2016-07-11' '2016-07-12' '2016-07-13' '2016-07-14' '2016-07-15'\n",
            " '2016-07-16' '2016-07-17' '2016-07-18' '2016-07-19' '2016-07-20'\n",
            " '2016-07-21' '2016-07-22' '2016-07-23' '2016-07-24' '2016-07-25'\n",
            " '2016-07-26' '2016-07-27' '2016-07-28' '2016-07-29' '2016-07-30']\n"
          ]
        }
      ],
      "source": [
        "print(np.arange(datetime64('2016-07-01'), datetime64('2016-07-31')))"
      ]
    },
    {
      "cell_type": "markdown",
      "metadata": {
        "id": "zKGYLER5FNvG"
      },
      "source": [
        "#### 35. How to compute ((A+B)\\*(-A/2)) in place (without copy)? (★★☆) \n",
        "(**hint**: np.add(out=), np.negative(out=), np.multiply(out=), np.divide(out=))"
      ]
    },
    {
      "cell_type": "code",
      "execution_count": null,
      "metadata": {
        "id": "cmfm0ODUFNvG",
        "colab": {
          "base_uri": "https://localhost:8080/"
        },
        "outputId": "c05ebd88-f44d-4052-c333-228c2e799c85"
      },
      "outputs": [
        {
          "output_type": "execute_result",
          "data": {
            "text/plain": [
              "-5.0"
            ]
          },
          "metadata": {},
          "execution_count": 96
        }
      ],
      "source": [
        "\n",
        "np.multiply(np.add(A,B),np.divide(-A,2))"
      ]
    },
    {
      "cell_type": "markdown",
      "metadata": {
        "id": "rsE_6R9JFNvG"
      },
      "source": [
        "#### 36. Extract the integer part of a random array using 5 different methods (★★☆) \n",
        "(**hint**: %, np.floor, np.ceil, astype, np.trunc)"
      ]
    },
    {
      "cell_type": "code",
      "execution_count": null,
      "metadata": {
        "id": "LdW5RHDyFNvH",
        "colab": {
          "base_uri": "https://localhost:8080/"
        },
        "outputId": "4294f72d-ec49-43ec-f54d-3400bc444d44"
      },
      "outputs": [
        {
          "output_type": "stream",
          "name": "stdout",
          "text": [
            "[6. 3. 1.]\n",
            "[6. 3. 1.]\n",
            "[7. 4. 2.]\n",
            "[6 3 1]\n"
          ]
        }
      ],
      "source": [
        "arr=np.random.random(3)*10\n",
        "print(np.floor(arr))\n",
        "print(np.trunc(arr))\n",
        "print(np.ceil(arr))\n",
        "print(arr.astype(int))"
      ]
    },
    {
      "cell_type": "markdown",
      "metadata": {
        "id": "NCNfaKGcFNvH"
      },
      "source": [
        "#### 37. Create a 5x5 matrix with row values ranging from 0 to 4 (★★☆) \n",
        "(**hint**: np.arange)"
      ]
    },
    {
      "cell_type": "code",
      "execution_count": null,
      "metadata": {
        "id": "c7fOjoIZFNvH",
        "colab": {
          "base_uri": "https://localhost:8080/"
        },
        "outputId": "c51c3da9-6840-49a8-9044-ba0c5be2be99"
      },
      "outputs": [
        {
          "output_type": "execute_result",
          "data": {
            "text/plain": [
              "array([[0., 1., 2., 3., 4.],\n",
              "       [0., 1., 2., 3., 4.],\n",
              "       [0., 1., 2., 3., 4.],\n",
              "       [0., 1., 2., 3., 4.],\n",
              "       [0., 1., 2., 3., 4.]])"
            ]
          },
          "metadata": {},
          "execution_count": 6
        }
      ],
      "source": [
        "arr5by5 = np.zeros((5,5))\n",
        "arr5by5 += np.arange(5)\n",
        "arr5by5\n"
      ]
    },
    {
      "cell_type": "markdown",
      "metadata": {
        "id": "S0kcd5efFNvH"
      },
      "source": [
        "#### 38. Consider a generator function that generates 10 integers and use it to build an array (★☆☆) \n",
        "(**hint**: np.fromiter)"
      ]
    },
    {
      "cell_type": "code",
      "execution_count": 10,
      "metadata": {
        "id": "-yMUIwRZFNvI",
        "colab": {
          "base_uri": "https://localhost:8080/"
        },
        "outputId": "6e3b5c9c-21b0-4690-df58-37670f44be65"
      },
      "outputs": [
        {
          "output_type": "stream",
          "name": "stdout",
          "text": [
            "[0 1 2 3 4 5 6 7 8 9]\n"
          ]
        }
      ],
      "source": [
        "def generator(): \n",
        "    for x in range(10):\n",
        "        yield x\n",
        "#print(*generator())\n",
        "iterarr = np.fromiter(generator(), dtype=int, count=-1)\n",
        "print (iterarr)"
      ]
    },
    {
      "cell_type": "markdown",
      "metadata": {
        "id": "7oiU_yhLFNvI"
      },
      "source": [
        "#### 39. Create a vector of size 10 with values ranging from 0 to 1, both excluded (★★☆) \n",
        "(**hint**: np.linspace)"
      ]
    },
    {
      "cell_type": "code",
      "execution_count": 16,
      "metadata": {
        "id": "ke15c8HeFNvI",
        "colab": {
          "base_uri": "https://localhost:8080/"
        },
        "outputId": "8c9b00e3-e3cf-4850-8abd-beb6609f7e9a"
      },
      "outputs": [
        {
          "output_type": "stream",
          "name": "stdout",
          "text": [
            "[0.1  0.19 0.28 0.37 0.46 0.55 0.64 0.73 0.82 0.91]\n"
          ]
        }
      ],
      "source": [
        "print(np.linspace(start=.1, stop=1, num=10, endpoint=False))"
      ]
    },
    {
      "cell_type": "markdown",
      "metadata": {
        "id": "KaoBXh-iFNvI"
      },
      "source": [
        "#### 40. Create a random vector of size 10 and sort it (★★☆) \n",
        "(**hint**: sort)"
      ]
    },
    {
      "cell_type": "code",
      "execution_count": 11,
      "metadata": {
        "id": "eMUQZH_LFNvJ",
        "colab": {
          "base_uri": "https://localhost:8080/"
        },
        "outputId": "252bcc4a-3e4b-490c-f3ad-6f48bd5bb74d"
      },
      "outputs": [
        {
          "output_type": "stream",
          "name": "stdout",
          "text": [
            "[0.1475842  0.35206513 0.39983848 0.47654521 0.47723113 0.4825937\n",
            " 0.72406621 0.78035135 0.82686106 0.87705673]\n"
          ]
        }
      ],
      "source": [
        "arrsort = np.random.random(10)\n",
        "arrsort.sort()\n",
        "print(arrsort)"
      ]
    },
    {
      "cell_type": "markdown",
      "metadata": {
        "id": "MS66PfzzFNvJ"
      },
      "source": [
        "#### 41. How to sum a small array faster than np.sum? (★★☆) \n",
        "(**hint**: np.add.reduce)"
      ]
    },
    {
      "cell_type": "code",
      "execution_count": 122,
      "metadata": {
        "id": "ctcKrYSMFNvJ",
        "colab": {
          "base_uri": "https://localhost:8080/"
        },
        "outputId": "0873add0-7126-456b-b005-af882fd0e0ae"
      },
      "outputs": [
        {
          "output_type": "execute_result",
          "data": {
            "text/plain": [
              "45"
            ]
          },
          "metadata": {},
          "execution_count": 122
        }
      ],
      "source": [
        "arr10 = np.arange(10)\n",
        "np.add.reduce(arr10)"
      ]
    },
    {
      "cell_type": "markdown",
      "metadata": {
        "id": "FXLrbWjYFNvJ"
      },
      "source": [
        "#### 42. Consider two random array A and B, check if they are equal (★★☆) \n",
        "(**hint**: np.allclose, np.array\\_equal)"
      ]
    },
    {
      "cell_type": "code",
      "execution_count": 19,
      "metadata": {
        "id": "X_v2UhNWFNvJ",
        "colab": {
          "base_uri": "https://localhost:8080/"
        },
        "outputId": "7f1009dc-e3bc-4507-9315-8e3820dd0ca7"
      },
      "outputs": [
        {
          "output_type": "execute_result",
          "data": {
            "text/plain": [
              "False"
            ]
          },
          "metadata": {},
          "execution_count": 19
        }
      ],
      "source": [
        "Iarr = np.random.random(10)\n",
        "IIarr = np.random.random(10)\n",
        "np.allclose(Iarr, IIarr)"
      ]
    },
    {
      "cell_type": "markdown",
      "metadata": {
        "id": "aqrP04qPFNvJ"
      },
      "source": [
        "#### 43. Make an array immutable (read-only) (★★☆) \n",
        "(**hint**: flags.writeable)"
      ]
    },
    {
      "cell_type": "code",
      "execution_count": 22,
      "metadata": {
        "id": "Q9n20nIZFNvJ"
      },
      "outputs": [],
      "source": [
        "immarr = np.zeros(10)\n",
        "immarr.flags.writeable = False # writeable = False then the values of array cannot be changed"
      ]
    },
    {
      "cell_type": "markdown",
      "metadata": {
        "id": "GHcNJAwfFNvJ"
      },
      "source": [
        "#### 44. Consider a random 10x2 matrix representing cartesian coordinates, convert them to polar coordinates (★★☆) \n",
        "(**hint**: np.sqrt, np.arctan2)"
      ]
    },
    {
      "cell_type": "code",
      "execution_count": 24,
      "metadata": {
        "id": "LO7RNI7IFNvJ",
        "colab": {
          "base_uri": "https://localhost:8080/"
        },
        "outputId": "139be9bf-716e-4b45-f5bd-dce3b63f410e"
      },
      "outputs": [
        {
          "output_type": "stream",
          "name": "stdout",
          "text": [
            "[1.56348435 1.71462179 0.91120456 0.47806417 1.29579465 1.5796837\n",
            " 1.92611977 1.46823654 0.83865891 1.38373401]\n",
            "[0.31784313 0.96001308 0.55128828 0.70247393 0.00783337 0.46522092\n",
            " 0.76398565 0.86628113 0.17041437 0.38346642]\n"
          ]
        }
      ],
      "source": [
        "Z = np.random.random((10, 2))\n",
        "X, Y = Z[:, 0], Z[:, 1]\n",
        "R = np.sqrt(X * 2 + Y * 2)\n",
        "T = np.arctan2(Y, X)\n",
        "print(R)\n",
        "print(T)"
      ]
    },
    {
      "cell_type": "markdown",
      "metadata": {
        "id": "TJQoSQdUFNvK"
      },
      "source": [
        "#### 45. Create random vector of size 10 and replace the maximum value by 0 (★★☆) \n",
        "(**hint**: argmax)"
      ]
    },
    {
      "cell_type": "code",
      "execution_count": 27,
      "metadata": {
        "id": "lsY6KjBvFNvK",
        "colab": {
          "base_uri": "https://localhost:8080/"
        },
        "outputId": "793d5121-81a9-4b31-f92a-0ff0a921657b"
      },
      "outputs": [
        {
          "output_type": "stream",
          "name": "stdout",
          "text": [
            "[0.56688735 0.24780786 0.13757153 0.06177827 0.66692743 0.24912122\n",
            " 0.71555956 0.88475176 0.         0.42908367]\n"
          ]
        }
      ],
      "source": [
        "arrof10 = np.random.random(10)\n",
        "#print(arrof10)\n",
        "#print(arrof10.argmax())\n",
        "arrof10[arrof10.argmax()] = 0\n",
        "print(arrof10)"
      ]
    },
    {
      "cell_type": "markdown",
      "metadata": {
        "id": "Tkw2ol1qFNvK"
      },
      "source": [
        "#### 46. Create a structured array with `x` and `y` coordinates covering the \\[0,1\\]x\\[0,1\\] area (★★☆) \n",
        "(**hint**: np.meshgrid)"
      ]
    },
    {
      "cell_type": "code",
      "execution_count": null,
      "metadata": {
        "id": "MPfF_v4HFNvK"
      },
      "outputs": [],
      "source": []
    },
    {
      "cell_type": "markdown",
      "metadata": {
        "id": "16WcEr18FNvK"
      },
      "source": [
        "####  47. Given two arrays, X and Y, construct the Cauchy matrix C (Cij =1/(xi - yj)) \n",
        "(**hint**: np.subtract.outer)"
      ]
    },
    {
      "cell_type": "code",
      "execution_count": null,
      "metadata": {
        "id": "CFfrYMblFNvL"
      },
      "outputs": [],
      "source": []
    },
    {
      "cell_type": "markdown",
      "metadata": {
        "id": "WDgtVEM1FNvL"
      },
      "source": [
        "#### 48. Print the minimum and maximum representable value for each numpy scalar type (★★☆) \n",
        "(**hint**: np.iinfo, np.finfo, eps)"
      ]
    },
    {
      "cell_type": "code",
      "execution_count": 38,
      "metadata": {
        "id": "rzSEq7RbFNvL",
        "colab": {
          "base_uri": "https://localhost:8080/"
        },
        "outputId": "6fbcd9d0-b046-4f2d-8c16-0beede703468"
      },
      "outputs": [
        {
          "output_type": "stream",
          "name": "stdout",
          "text": [
            "<class 'numpy.int8'>  : -128\n",
            "<class 'numpy.int8'>  : 127\n",
            "<class 'numpy.int32'>  : -2147483648\n",
            "<class 'numpy.int32'>  : 2147483647\n",
            "<class 'numpy.int64'>  : -9223372036854775808\n",
            "<class 'numpy.int64'>  : 9223372036854775807\n",
            "--------------------------------------------\n",
            "<class 'numpy.float32'>  : -3.4028235e+38\n",
            "<class 'numpy.float32'>  : 3.4028235e+38\n",
            "<class 'numpy.float32'>  : 1.1920929e-07\n",
            "<class 'numpy.float64'>  : -1.7976931348623157e+308\n",
            "<class 'numpy.float64'>  : 1.7976931348623157e+308\n",
            "<class 'numpy.float64'>  : 2.220446049250313e-16\n"
          ]
        }
      ],
      "source": [
        "for dtype in [np.int8, np.int32, np.int64]:\n",
        "   print(dtype,\" :\",np.iinfo(dtype).min)\n",
        "   print(dtype,\" :\",np.iinfo(dtype).max)\n",
        "print(\"--------------------------------------------\")\n",
        "for dtype in [np.float32, np.float64]:\n",
        "   print(dtype,\" :\",np.finfo(dtype).min)\n",
        "   print(dtype,\" :\",np.finfo(dtype).max)\n",
        "   print(dtype,\" :\",np.finfo(dtype).eps)"
      ]
    },
    {
      "cell_type": "markdown",
      "metadata": {
        "id": "p3MboZ5OFNvL"
      },
      "source": [
        "#### 49. How to print all the values of an array? (★★☆) \n",
        "(**hint**: np.set\\_printoptions)"
      ]
    },
    {
      "cell_type": "code",
      "execution_count": 43,
      "metadata": {
        "id": "fqSfBxE9FNvL",
        "colab": {
          "base_uri": "https://localhost:8080/"
        },
        "outputId": "4373620a-3412-42d2-a5f3-73d8a333e1d4"
      },
      "outputs": [
        {
          "output_type": "stream",
          "name": "stdout",
          "text": [
            "[[0.094 0.909 0.724]\n",
            " [0.044 0.896 0.942]\n",
            " [0.931 0.88  0.463]]\n"
          ]
        }
      ],
      "source": [
        "arr10 = np.random.rand(3,3)\n",
        "np.set_printoptions(precision=3)\n",
        "print(arr10)"
      ]
    },
    {
      "cell_type": "markdown",
      "metadata": {
        "id": "BebjP8SkFNvL"
      },
      "source": [
        "#### 50. How to find the closest value (to a given scalar) in a vector? (★★☆) \n",
        "(**hint**: argmin)"
      ]
    },
    {
      "cell_type": "code",
      "execution_count": 50,
      "metadata": {
        "id": "odBFjxWkFNvM",
        "colab": {
          "base_uri": "https://localhost:8080/"
        },
        "outputId": "233a8b58-b498-4cb1-8044-c5f9269f49f6"
      },
      "outputs": [
        {
          "output_type": "stream",
          "name": "stdout",
          "text": [
            "input Scalar :4\n",
            "4\n"
          ]
        }
      ],
      "source": [
        "arrof10 = np.arange(10)\n",
        "inval = int(input(\"input Scalar :\"))\n",
        "#print(arrof10)\n",
        "index = (np.abs(arrof10-inval)).argmin()\n",
        "print(arrof10[index])"
      ]
    },
    {
      "cell_type": "markdown",
      "metadata": {
        "id": "F8FfQSUwFNvM"
      },
      "source": [
        "#### 51. Create a structured array representing a position (x,y) and a color (r,g,b) (★★☆) \n",
        "(**hint**: dtype)"
      ]
    },
    {
      "cell_type": "code",
      "execution_count": 123,
      "metadata": {
        "id": "ekbnMSZoFNvM",
        "colab": {
          "base_uri": "https://localhost:8080/"
        },
        "outputId": "04ff67b5-69cf-4bd4-d9d5-bf737032fa2d"
      },
      "outputs": [
        {
          "output_type": "stream",
          "name": "stdout",
          "text": [
            "[((0., 0.), (0., 0., 0.)) ((0., 0.), (0., 0., 0.))\n",
            " ((0., 0.), (0., 0., 0.)) ((0., 0.), (0., 0., 0.))\n",
            " ((0., 0.), (0., 0., 0.)) ((0., 0.), (0., 0., 0.))\n",
            " ((0., 0.), (0., 0., 0.)) ((0., 0.), (0., 0., 0.))\n",
            " ((0., 0.), (0., 0., 0.)) ((0., 0.), (0., 0., 0.))]\n"
          ]
        },
        {
          "output_type": "stream",
          "name": "stderr",
          "text": [
            "/usr/local/lib/python3.7/dist-packages/ipykernel_launcher.py:2: FutureWarning: Passing (type, 1) or '1type' as a synonym of type is deprecated; in a future version of numpy, it will be understood as (type, (1,)) / '(1,)type'.\n",
            "  \n"
          ]
        }
      ],
      "source": [
        "rgbarr = np.zeros(10, [ ('position', [ ('x', float, 1),('y', float, 1)]),\n",
        "                        ('color',    [ ('r', float, 1), ('g', float, 1), ('b', float, 1)])])\n",
        "print(rgbarr)"
      ]
    },
    {
      "cell_type": "markdown",
      "metadata": {
        "id": "iXT6R-2jFNvM"
      },
      "source": [
        "#### 52. Consider a random vector with shape (100,2) representing coordinates, find point by point distances (★★☆) \n",
        "(**hint**: np.atleast\\_2d, T, np.sqrt)"
      ]
    },
    {
      "cell_type": "code",
      "execution_count": 95,
      "metadata": {
        "id": "3L50Ds-3FNvM",
        "colab": {
          "base_uri": "https://localhost:8080/"
        },
        "outputId": "ab4bb5ee-7e14-4f74-d8d0-03e4c8ed0266"
      },
      "outputs": [
        {
          "output_type": "stream",
          "name": "stdout",
          "text": [
            "[[0.      nan   nan   nan 0.773 0.873   nan   nan 0.54    nan]\n",
            " [0.68  0.    0.652   nan 1.03  1.107 0.141 0.381 0.868   nan]\n",
            " [0.195   nan 0.      nan 0.797 0.894   nan   nan 0.574   nan]\n",
            " [0.89  0.574 0.869 0.    1.179 1.247 0.591 0.689 1.041   nan]\n",
            " [  nan   nan   nan   nan 0.    0.406   nan   nan   nan   nan]\n",
            " [  nan   nan   nan   nan   nan 0.      nan   nan   nan   nan]\n",
            " [0.666   nan 0.636   nan 1.02  1.098 0.    0.354 0.857   nan]\n",
            " [0.563   nan 0.529   nan 0.956 1.039   nan 0.    0.78    nan]\n",
            " [  nan   nan   nan   nan 0.553 0.686   nan   nan 0.      nan]\n",
            " [1.263 1.064 1.248 0.896 1.481 1.535 1.074 1.131 1.374 0.   ]]\n"
          ]
        },
        {
          "output_type": "stream",
          "name": "stderr",
          "text": [
            "/usr/local/lib/python3.7/dist-packages/ipykernel_launcher.py:3: RuntimeWarning: invalid value encountered in sqrt\n",
            "  This is separate from the ipykernel package so we can avoid doing imports until\n"
          ]
        }
      ],
      "source": [
        "Z = np.random.random((10,2))\n",
        "X,Y = np.atleast_2d(Z[:,0]), np.atleast_2d(Z[:,1])\n",
        "D = np.sqrt( (X-X.T)*2 + (Y-Y.T)*2)\n",
        "print(D)"
      ]
    },
    {
      "cell_type": "markdown",
      "metadata": {
        "id": "Q01u5QEEFNvM"
      },
      "source": [
        "#### 53. How to convert a float (32 bits) array into an integer (32 bits) in place? \n",
        "(**hint**: astype(copy=False))"
      ]
    },
    {
      "cell_type": "code",
      "execution_count": 96,
      "metadata": {
        "id": "xc3aJqVZFNvM"
      },
      "outputs": [],
      "source": [
        "fltarr = np.arange(10, dtype=np.float32)\n",
        "intarr = fltarr.astype(np.int32, copy=False)"
      ]
    },
    {
      "cell_type": "markdown",
      "metadata": {
        "id": "n1vB_uA3FNvN"
      },
      "source": [
        "#### 54. How to read the following file? (★★☆) \n",
        "(**hint**: np.genfromtxt)"
      ]
    },
    {
      "cell_type": "markdown",
      "metadata": {
        "id": "A4RZGQJ-FNvN"
      },
      "source": [
        "```\n",
        "1, 2, 3, 4, 5\n",
        "6,  ,  , 7, 8\n",
        " ,  , 9,10,11\n",
        "```"
      ]
    },
    {
      "cell_type": "code",
      "execution_count": 101,
      "metadata": {
        "id": "8hyEXfkcFNvN",
        "colab": {
          "base_uri": "https://localhost:8080/"
        },
        "outputId": "906f1ffd-fb33-4a97-ddd4-371c55bebf19"
      },
      "outputs": [
        {
          "output_type": "stream",
          "name": "stdout",
          "text": [
            "[[ 1.  2.  3.  4.  5.]\n",
            " [ 6. nan nan  7.  8.]\n",
            " [nan nan  9. 10. 11.]]\n"
          ]
        }
      ],
      "source": [
        "missarr = np.genfromtxt(\"/content/drive/My Drive/Colab Notebooks/missing.txt\", delimiter=\",\")\n",
        "print(missarr)"
      ]
    },
    {
      "cell_type": "markdown",
      "metadata": {
        "id": "KuXq0JvIFNvN"
      },
      "source": [
        "#### 55. What is the equivalent of enumerate for numpy arrays? (★★☆) \n",
        "(**hint**: np.ndenumerate, np.ndindex)"
      ]
    },
    {
      "cell_type": "code",
      "execution_count": 104,
      "metadata": {
        "id": "Vtdab4H6FNvN",
        "colab": {
          "base_uri": "https://localhost:8080/"
        },
        "outputId": "ab2d32e6-52b6-452b-d4c4-299b1bcd1705"
      },
      "outputs": [
        {
          "output_type": "stream",
          "name": "stdout",
          "text": [
            "(0, 0) 0\n",
            "(0, 1) 1\n",
            "(0, 2) 2\n",
            "(1, 0) 3\n",
            "(1, 1) 4\n",
            "(1, 2) 5\n",
            "(2, 0) 6\n",
            "(2, 1) 7\n",
            "(2, 2) 8\n"
          ]
        }
      ],
      "source": [
        "enarr = np.arange(9).reshape(3,3)\n",
        "for index, value in np.ndenumerate(enarr):\n",
        "    print(index, value)"
      ]
    },
    {
      "cell_type": "markdown",
      "metadata": {
        "id": "ziLQIrMzFNvN"
      },
      "source": [
        "#### 56. Generate a generic 2D Gaussian-like array (★★☆) \n",
        "(**hint**: np.meshgrid, np.exp)"
      ]
    },
    {
      "cell_type": "code",
      "execution_count": 106,
      "metadata": {
        "id": "IP6V7UkQFNvN",
        "colab": {
          "base_uri": "https://localhost:8080/"
        },
        "outputId": "9d8c547b-0703-45d1-cf6f-ebe51ae533a4"
      },
      "outputs": [
        {
          "output_type": "stream",
          "name": "stdout",
          "text": [
            "[[0.493 0.531 0.564 0.59  0.605 0.605 0.59  0.564 0.531 0.493]\n",
            " [0.531 0.577 0.62  0.655 0.675 0.675 0.655 0.62  0.577 0.531]\n",
            " [0.564 0.62  0.675 0.723 0.753 0.753 0.723 0.675 0.62  0.564]\n",
            " [0.59  0.655 0.723 0.79  0.839 0.839 0.79  0.723 0.655 0.59 ]\n",
            " [0.605 0.675 0.753 0.839 0.924 0.924 0.839 0.753 0.675 0.605]\n",
            " [0.605 0.675 0.753 0.839 0.924 0.924 0.839 0.753 0.675 0.605]\n",
            " [0.59  0.655 0.723 0.79  0.839 0.839 0.79  0.723 0.655 0.59 ]\n",
            " [0.564 0.62  0.675 0.723 0.753 0.753 0.723 0.675 0.62  0.564]\n",
            " [0.531 0.577 0.62  0.655 0.675 0.675 0.655 0.62  0.577 0.531]\n",
            " [0.493 0.531 0.564 0.59  0.605 0.605 0.59  0.564 0.531 0.493]]\n"
          ]
        }
      ],
      "source": [
        "arrX, arrY = np.meshgrid(np.linspace(-1,1,10), np.linspace(-1,1,10))\n",
        "D = np.sqrt(arrX*arrX+arrY*arrY)\n",
        "sigma, mu = 1.0, 0.0\n",
        "Garr = np.exp(-( (D-mu)*2 / ( 2.0 * sigma*2 ) ) )\n",
        "print(Garr)"
      ]
    },
    {
      "cell_type": "markdown",
      "metadata": {
        "id": "a1LECq0PFNvO"
      },
      "source": [
        "#### 57. How to randomly place p elements in a 2D array? (★★☆) \n",
        "(**hint**: np.put, np.random.choice)"
      ]
    },
    {
      "cell_type": "code",
      "execution_count": 108,
      "metadata": {
        "id": "jPi17P26FNvO",
        "colab": {
          "base_uri": "https://localhost:8080/"
        },
        "outputId": "32663a1c-a84f-4e70-f186-903c490e5327"
      },
      "outputs": [
        {
          "output_type": "stream",
          "name": "stdout",
          "text": [
            "[[1. 1. 0. 0. 1.]\n",
            " [0. 0. 0. 0. 0.]\n",
            " [0. 0. 0. 0. 0.]\n",
            " [0. 0. 0. 0. 0.]\n",
            " [0. 0. 0. 0. 0.]]\n"
          ]
        }
      ],
      "source": [
        "m = 5\n",
        "p = 3\n",
        "zeroarr = np.zeros((m,m))\n",
        "np.put(zeroarr, np.random.choice(range(m), p,replace=False),1)\n",
        "print (zeroarr)"
      ]
    },
    {
      "cell_type": "markdown",
      "metadata": {
        "id": "ceQ_y8JNFNvO"
      },
      "source": [
        "#### 58. Subtract the mean of each row of a matrix (★★☆) \n",
        "(**hint**: mean(axis=,keepdims=))"
      ]
    },
    {
      "cell_type": "code",
      "execution_count": 109,
      "metadata": {
        "id": "-k8reI7dFNvO",
        "colab": {
          "base_uri": "https://localhost:8080/"
        },
        "outputId": "30094d3d-7799-49a2-c0a0-df605f36e387"
      },
      "outputs": [
        {
          "output_type": "stream",
          "name": "stdout",
          "text": [
            "[[ 0.304  0.215 -0.041  0.217 -0.103  0.144 -0.336  0.155 -0.604  0.051]\n",
            " [ 0.216 -0.277  0.283  0.152 -0.032 -0.481  0.155 -0.048 -0.301  0.335]\n",
            " [ 0.373  0.131  0.386 -0.567  0.051  0.14  -0.269  0.302 -0.201 -0.347]\n",
            " [ 0.391  0.164 -0.193  0.271  0.284 -0.035 -0.279 -0.478  0.363 -0.487]\n",
            " [ 0.261 -0.032  0.103  0.044 -0.313 -0.211 -0.443 -0.049  0.215  0.425]]\n"
          ]
        }
      ],
      "source": [
        "arri5 = np.random.rand(5, 10)\n",
        "Yarr = arri5 - arri5.mean(axis=1, keepdims=True)\n",
        "print(Yarr)"
      ]
    },
    {
      "cell_type": "markdown",
      "metadata": {
        "id": "_46X3qEAFNvO"
      },
      "source": [
        "#### 59. How to sort an array by the nth column? (★★☆) \n",
        "(**hint**: argsort)"
      ]
    },
    {
      "cell_type": "code",
      "execution_count": 110,
      "metadata": {
        "id": "SXR_LYxcFNvO",
        "colab": {
          "base_uri": "https://localhost:8080/"
        },
        "outputId": "5fc9dfdb-c371-4c62-9c69-bec5afd355b3"
      },
      "outputs": [
        {
          "output_type": "stream",
          "name": "stdout",
          "text": [
            "[[6 4 8]\n",
            " [5 4 9]\n",
            " [8 9 8]]\n"
          ]
        }
      ],
      "source": [
        "ntharr = np.random.randint(0,10,(3,3))\n",
        "print(ntharr[ntharr[:,1].argsort()])"
      ]
    },
    {
      "cell_type": "markdown",
      "metadata": {
        "id": "vW7981LiFNvO"
      },
      "source": [
        "#### 60. How to tell if a given 2D array has null columns? (★★☆) \n",
        "(**hint**: any, ~)"
      ]
    },
    {
      "cell_type": "code",
      "execution_count": 111,
      "metadata": {
        "id": "SuVfgUYsFNvO",
        "colab": {
          "base_uri": "https://localhost:8080/"
        },
        "outputId": "7e30787b-c2af-459c-ce60-8ecbc3014994"
      },
      "outputs": [
        {
          "output_type": "stream",
          "name": "stdout",
          "text": [
            "False\n"
          ]
        }
      ],
      "source": [
        "nullarr = np.random.randint(0,3,(3,10))\n",
        "print((~nullarr.any(axis=0)).any())"
      ]
    },
    {
      "cell_type": "markdown",
      "metadata": {
        "id": "PbF9cfvIFNvP"
      },
      "source": [
        "#### 61. Find the nearest value from a given value in an array (★★☆) \n",
        "(**hint**: np.abs, argmin, flat)"
      ]
    },
    {
      "cell_type": "code",
      "execution_count": 52,
      "metadata": {
        "id": "h8rVnq9mFNvP",
        "colab": {
          "base_uri": "https://localhost:8080/"
        },
        "outputId": "9fde61f9-891e-4051-e440-b407edca27ce"
      },
      "outputs": [
        {
          "output_type": "stream",
          "name": "stdout",
          "text": [
            "input Scalar :.12\n",
            "0.12882253637717178\n"
          ]
        }
      ],
      "source": [
        "arrof10 = np.random.random(10)\n",
        "inval = float(input(\"input Scalar :\"))\n",
        "#print(arrof10)\n",
        "index = (np.abs(arrof10-inval)).argmin()\n",
        "print(arrof10[index])"
      ]
    },
    {
      "cell_type": "markdown",
      "metadata": {
        "id": "IculA3cdFNvP"
      },
      "source": [
        "#### 62. Considering two arrays with shape (1,3) and (3,1), how to compute their sum using an iterator? (★★☆) \n",
        "(**hint**: np.nditer)"
      ]
    },
    {
      "cell_type": "code",
      "execution_count": 123,
      "metadata": {
        "id": "TF9ZzOO8FNvP"
      },
      "outputs": [],
      "source": []
    },
    {
      "cell_type": "markdown",
      "metadata": {
        "id": "eb6WGPW-FNvP"
      },
      "source": [
        "#### 63. Create an array class that has a name attribute (★★☆) \n",
        "(**hint**: class method)"
      ]
    },
    {
      "cell_type": "code",
      "execution_count": 123,
      "metadata": {
        "id": "LA16uP6qFNvP"
      },
      "outputs": [],
      "source": []
    },
    {
      "cell_type": "markdown",
      "metadata": {
        "id": "pYwYtl9jFNvP"
      },
      "source": [
        "#### 64. Consider a given vector, how to add 1 to each element indexed by a second vector (be careful with repeated indices)? (★★★) \n",
        "(**hint**: np.bincount | np.add.at)"
      ]
    },
    {
      "cell_type": "code",
      "execution_count": 75,
      "metadata": {
        "id": "Ba4Kkb-6FNvP",
        "colab": {
          "base_uri": "https://localhost:8080/"
        },
        "outputId": "43df103a-9a90-4d41-96f3-a1c5acaacd34"
      },
      "outputs": [
        {
          "output_type": "stream",
          "name": "stdout",
          "text": [
            "[1. 3. 1. 1. 2. 2. 3. 3. 2. 2.]\n"
          ]
        }
      ],
      "source": [
        "vct1=np.ones(10)\n",
        "vct2 = np.random.randint(0,len(vct1),10)\n",
        "np.add.at(vct1, vct2, 1)\n",
        "print(vct1)"
      ]
    },
    {
      "cell_type": "markdown",
      "metadata": {
        "id": "j9B1bHSAFNvP"
      },
      "source": [
        "#### 65. How to accumulate elements of a vector (X) to an array (F) based on an index list (I)? (★★★) \n",
        "(**hint**: np.bincount)"
      ]
    },
    {
      "cell_type": "code",
      "execution_count": 77,
      "metadata": {
        "id": "l5q0nq05FNvQ",
        "colab": {
          "base_uri": "https://localhost:8080/"
        },
        "outputId": "5cb809f9-ebcd-4dce-9f6a-814cd52e91c0"
      },
      "outputs": [
        {
          "output_type": "stream",
          "name": "stdout",
          "text": [
            "[0. 1. 3. 9. 3. 4. 1.]\n"
          ]
        }
      ],
      "source": [
        "arrw = [1,2,3,4,5,6]\n",
        "arry = [1,3,9,3,4,1]\n",
        "binarr = np.bincount(arrw,arry)\n",
        "print(binarr)"
      ]
    },
    {
      "cell_type": "markdown",
      "metadata": {
        "id": "kaQBmgg_FNvQ"
      },
      "source": [
        "#### 66. Considering a (w,h,3) image of (dtype=ubyte), compute the number of unique colors (★★★) \n",
        "(**hint**: np.unique)"
      ]
    },
    {
      "cell_type": "code",
      "execution_count": null,
      "metadata": {
        "id": "fieM2jbPFNvR"
      },
      "outputs": [],
      "source": []
    },
    {
      "cell_type": "markdown",
      "metadata": {
        "id": "eTSt-5auFNvR"
      },
      "source": [
        "#### 67. Considering a four dimensions array, how to get sum over the last two axis at once? (★★★) \n",
        "(**hint**: sum(axis=(-2,-1)))"
      ]
    },
    {
      "cell_type": "code",
      "execution_count": 89,
      "metadata": {
        "id": "re6f0hHyFNvS",
        "colab": {
          "base_uri": "https://localhost:8080/"
        },
        "outputId": "47dee5dd-8758-450c-879d-3c27b189e451"
      },
      "outputs": [
        {
          "output_type": "stream",
          "name": "stdout",
          "text": [
            "[63 62 50 50]\n"
          ]
        }
      ],
      "source": [
        "arr4d = np.random.randint(0,10,(4,3,4))\n",
        "#print(arr4d)\n",
        "sumarr4d = arr4d.sum(axis=(-2,-1))\n",
        "print(sumarr4d)"
      ]
    },
    {
      "cell_type": "markdown",
      "metadata": {
        "id": "12tNyHMUFNvS"
      },
      "source": [
        "#### 68. Considering a one-dimensional vector D, how to compute means of subsets of D using a vector S of same size describing subset  indices? (★★★) \n",
        "(**hint**: np.bincount)"
      ]
    },
    {
      "cell_type": "code",
      "execution_count": 90,
      "metadata": {
        "id": "prVssPVMFNvS",
        "colab": {
          "base_uri": "https://localhost:8080/"
        },
        "outputId": "40a8b5c1-82db-48db-d850-5dfc14bca720"
      },
      "outputs": [
        {
          "output_type": "stream",
          "name": "stdout",
          "text": [
            "[0.582 0.368 0.521 0.494 0.613 0.48  0.321 0.444 0.4   0.499]\n"
          ]
        }
      ],
      "source": [
        "D = np.random.uniform(0,1,100)\n",
        "S = np.random.randint(0,10,100)\n",
        "Dsums = np.bincount(S, weights=D)\n",
        "Dcounts = np.bincount(S)\n",
        "Dmeans = Dsums / Dcounts\n",
        "print(Dmeans)"
      ]
    },
    {
      "cell_type": "markdown",
      "metadata": {
        "id": "ck6i_ly9FNvS"
      },
      "source": [
        "#### 69. How to get the diagonal of a dot product? (★★★) \n",
        "(**hint**: np.diag)"
      ]
    },
    {
      "cell_type": "code",
      "execution_count": 94,
      "metadata": {
        "id": "9XrU7MEwFNvT",
        "colab": {
          "base_uri": "https://localhost:8080/"
        },
        "outputId": "afb6b949-5c1f-47fc-d224-1b19d0c4119a"
      },
      "outputs": [
        {
          "output_type": "execute_result",
          "data": {
            "text/plain": [
              "array([107,  96, 112])"
            ]
          },
          "metadata": {},
          "execution_count": 94
        }
      ],
      "source": [
        "prodarr1 = np.random.randint(1,9,(3,3))\n",
        "prodarr2 = np.random.randint(9,15,(3,3))\n",
        "np.diag(np.dot(prodarr1, prodarr2))"
      ]
    },
    {
      "cell_type": "markdown",
      "metadata": {
        "id": "-n9WU3PRFNvT"
      },
      "source": [
        "#### 70. Consider the vector \\[1, 2, 3, 4, 5\\], how to build a new vector with 3 consecutive zeros interleaved between each value? (★★★) \n",
        "(**hint**: array\\[::4\\])"
      ]
    },
    {
      "cell_type": "code",
      "execution_count": null,
      "metadata": {
        "id": "IRz8UvP4FNvT"
      },
      "outputs": [],
      "source": []
    },
    {
      "cell_type": "markdown",
      "metadata": {
        "id": "_6wKsZTVFNvT"
      },
      "source": [
        "#### 71. Consider an array of dimension (5,5,3), how to mulitply it by an array with dimensions (5,5)? (★★★) \n",
        "(**hint**: array\\[:, :, None\\])"
      ]
    },
    {
      "cell_type": "code",
      "execution_count": 124,
      "metadata": {
        "collapsed": true,
        "id": "0FvjOtVsFNvU",
        "colab": {
          "base_uri": "https://localhost:8080/"
        },
        "outputId": "e27fcf80-030f-4da5-853c-8300f33a1c3c"
      },
      "outputs": [
        {
          "output_type": "stream",
          "name": "stdout",
          "text": [
            "[[[1. 1. 1.]\n",
            "  [1. 1. 1.]\n",
            "  [1. 1. 1.]\n",
            "  [1. 1. 1.]\n",
            "  [1. 1. 1.]]\n",
            "\n",
            " [[1. 1. 1.]\n",
            "  [1. 1. 1.]\n",
            "  [1. 1. 1.]\n",
            "  [1. 1. 1.]\n",
            "  [1. 1. 1.]]\n",
            "\n",
            " [[1. 1. 1.]\n",
            "  [1. 1. 1.]\n",
            "  [1. 1. 1.]\n",
            "  [1. 1. 1.]\n",
            "  [1. 1. 1.]]\n",
            "\n",
            " [[1. 1. 1.]\n",
            "  [1. 1. 1.]\n",
            "  [1. 1. 1.]\n",
            "  [1. 1. 1.]\n",
            "  [1. 1. 1.]]\n",
            "\n",
            " [[1. 1. 1.]\n",
            "  [1. 1. 1.]\n",
            "  [1. 1. 1.]\n",
            "  [1. 1. 1.]\n",
            "  [1. 1. 1.]]]\n"
          ]
        }
      ],
      "source": [
        "arrA = np.ones((5,5,3))\n",
        "arrB = np.ones((5,5))\n",
        "print(arrA * arrB[:,:,None])"
      ]
    },
    {
      "cell_type": "markdown",
      "metadata": {
        "id": "mCEXenvdFNvV"
      },
      "source": [
        "#### 72. How to swap two rows of an array? (★★★) \n",
        "(**hint**: array\\[\\[\\]\\] = array\\[\\[\\]\\])"
      ]
    },
    {
      "cell_type": "code",
      "execution_count": 125,
      "metadata": {
        "id": "XBOMuHdsFNvW",
        "colab": {
          "base_uri": "https://localhost:8080/"
        },
        "outputId": "ffb78047-0293-41c7-c93b-16267698f639"
      },
      "outputs": [
        {
          "output_type": "stream",
          "name": "stdout",
          "text": [
            "[[ 5  6  7  8  9]\n",
            " [ 0  1  2  3  4]\n",
            " [10 11 12 13 14]\n",
            " [15 16 17 18 19]\n",
            " [20 21 22 23 24]]\n"
          ]
        }
      ],
      "source": [
        "swapA = np.arange(25).reshape(5,5)\n",
        "swapA[[0,1]] = swapA[[1,0]]\n",
        "print(swapA)"
      ]
    },
    {
      "cell_type": "markdown",
      "metadata": {
        "id": "35X3P85aFNvW"
      },
      "source": [
        "#### 73. Consider a set of 10 triplets describing 10 triangles (with shared vertices), find the set of unique line segments composing all the  triangles (★★★) \n",
        "(**hint**: repeat, np.roll, np.sort, view, np.unique)"
      ]
    },
    {
      "cell_type": "code",
      "execution_count": 126,
      "metadata": {
        "id": "eD04v1EyFNvX",
        "colab": {
          "base_uri": "https://localhost:8080/"
        },
        "outputId": "c714396a-27f7-458d-d909-c2a42e97d890"
      },
      "outputs": [
        {
          "output_type": "stream",
          "name": "stdout",
          "text": [
            "[1 1 2 3 4 4 6]\n"
          ]
        }
      ],
      "source": [
        "binarr = np.bincount([1,1,2,3,4,4,6])\n",
        "uniq = np.repeat(np.arange(len(binarr)), binarr)\n",
        "print(uniq)"
      ]
    },
    {
      "cell_type": "markdown",
      "metadata": {
        "id": "S2Pd6R8SFNvX"
      },
      "source": [
        "#### 74. Given an array C that is a bincount, how to produce an array A such that np.bincount(A) == C? (★★★) \n",
        "(**hint**: np.repeat)"
      ]
    },
    {
      "cell_type": "code",
      "execution_count": null,
      "metadata": {
        "id": "cmBnWdf9FNvY"
      },
      "outputs": [],
      "source": []
    },
    {
      "cell_type": "markdown",
      "metadata": {
        "id": "OWNS7YEqFNvY"
      },
      "source": [
        "#### 75. How to compute averages using a sliding window over an array? (★★★) \n",
        "(**hint**: np.cumsum)"
      ]
    },
    {
      "cell_type": "code",
      "execution_count": null,
      "metadata": {
        "id": "SoCSi8t7FNvY"
      },
      "outputs": [],
      "source": []
    },
    {
      "cell_type": "markdown",
      "metadata": {
        "id": "-6AmDP56FNvY"
      },
      "source": [
        "#### 76. Consider a one-dimensional array Z, build a two-dimensional array whose first row is (Z\\[0\\],Z\\[1\\],Z\\[2\\]) and each subsequent row is  shifted by 1 (last row should be (Z\\[-3\\],Z\\[-2\\],Z\\[-1\\]) (★★★) \n",
        "(**hint**: from numpy.lib import stride_tricks)"
      ]
    },
    {
      "cell_type": "code",
      "execution_count": null,
      "metadata": {
        "id": "-J2g8ZXMFNvY"
      },
      "outputs": [],
      "source": []
    },
    {
      "cell_type": "markdown",
      "metadata": {
        "id": "WorZByflFNvZ"
      },
      "source": [
        "#### 77. How to negate a boolean, or to change the sign of a float inplace? (★★★) \n",
        "(**hint**: np.logical_not, np.negative)"
      ]
    },
    {
      "cell_type": "code",
      "execution_count": 127,
      "metadata": {
        "id": "Vlt4XFUNFNvZ",
        "colab": {
          "base_uri": "https://localhost:8080/"
        },
        "outputId": "e1d1536a-1249-4f3f-fee1-78b89f54dd83"
      },
      "outputs": [
        {
          "output_type": "stream",
          "name": "stdout",
          "text": [
            "[0 0 0 0 0 0 0 1 1 1 0 1 0 0 0 0 0 0 0 0 0 0 0 0 0 1 0 0 1 1 0 1 1 0 1 0 1\n",
            " 0 0 0 0 1 0 0 0 0 1 1 1 1 1 0 0 0 1 1 0 0 1 0 1 0 0 0 1 1 0 0 1 1 0 1 0 0\n",
            " 1 1 1 0 0 1 1 0 0 0 1 0 0 1 1 1 0 1 0 1 0 1 1 0 0 0]\n",
            "[ 0.561 -0.147 -0.987  0.349 -0.104  0.916 -0.717 -0.735  0.263  0.898]\n"
          ]
        }
      ],
      "source": [
        "negat = np.random.randint(0,2,100)\n",
        "print(np.logical_not(negat, out=negat))\n",
        "\n",
        "\n",
        "bolneg = np.random.uniform(-1.0,1.0,10)\n",
        "print(np.negative(bolneg, out=bolneg))"
      ]
    },
    {
      "cell_type": "markdown",
      "metadata": {
        "id": "K2NGtyH-FNvZ"
      },
      "source": [
        "#### 78. Consider 2 sets of points P0,P1 describing lines (2d) and a point p, how to compute distance from p to each line i  (P0\\[i\\],P1\\[i\\])? (★★★)"
      ]
    },
    {
      "cell_type": "code",
      "execution_count": null,
      "metadata": {
        "id": "IBHlK60wFNvZ"
      },
      "outputs": [],
      "source": []
    },
    {
      "cell_type": "markdown",
      "metadata": {
        "id": "HJ1DnvPzFNvZ"
      },
      "source": [
        "#### 79. Consider 2 sets of points P0,P1 describing lines (2d) and a set of points P, how to compute distance from each point j (P\\[j\\]) to each line i (P0\\[i\\],P1\\[i\\])? (★★★)"
      ]
    },
    {
      "cell_type": "code",
      "execution_count": null,
      "metadata": {
        "id": "Jc-AFiszFNva"
      },
      "outputs": [],
      "source": []
    },
    {
      "cell_type": "markdown",
      "metadata": {
        "id": "3DTg6ZpFFNva"
      },
      "source": [
        "#### 80. Consider an arbitrary array, write a function that extract a subpart with a fixed shape and centered on a given element (pad with a `fill` value when necessary) (★★★) \n",
        "(**hint**: minimum, maximum)"
      ]
    },
    {
      "cell_type": "code",
      "execution_count": null,
      "metadata": {
        "id": "uIPdpGzGFNva"
      },
      "outputs": [],
      "source": []
    },
    {
      "cell_type": "markdown",
      "metadata": {
        "id": "7oCCov7FFNva"
      },
      "source": [
        "#### 81. Consider an array Z = \\[1,2,3,4,5,6,7,8,9,10,11,12,13,14\\], how to generate an array R = \\[\\[1,2,3,4\\], \\[2,3,4,5\\], \\[3,4,5,6\\], ..., \\[11,12,13,14\\]\\]? (★★★) \n",
        "(**hint**: stride\\_tricks.as\\_strided)"
      ]
    },
    {
      "cell_type": "code",
      "execution_count": null,
      "metadata": {
        "id": "9odcR8tuFNva"
      },
      "outputs": [],
      "source": []
    },
    {
      "cell_type": "markdown",
      "metadata": {
        "id": "gyK5XUpXFNva"
      },
      "source": [
        "#### 82. Compute a matrix rank (★★★) \n",
        "(**hint**: np.linalg.svd) (suggestion: np.linalg.svd)"
      ]
    },
    {
      "cell_type": "code",
      "execution_count": 129,
      "metadata": {
        "id": "Ll7V5CSuFNva",
        "colab": {
          "base_uri": "https://localhost:8080/"
        },
        "outputId": "243d7f7c-aaec-4a3a-a015-60c6246c61d3"
      },
      "outputs": [
        {
          "output_type": "stream",
          "name": "stdout",
          "text": [
            "1\n"
          ]
        }
      ],
      "source": [
        "arr3by3 = np.arange(10)\n",
        "rank = np.linalg.matrix_rank(arr3by3)\n",
        "print(rank)"
      ]
    },
    {
      "cell_type": "markdown",
      "metadata": {
        "id": "WVUKh2jeFNva"
      },
      "source": [
        "#### 83. How to find the most frequent value in an array? \n",
        "(**hint**: np.bincount, argmax)"
      ]
    },
    {
      "cell_type": "code",
      "execution_count": 133,
      "metadata": {
        "id": "DbdvqGjFFNvb",
        "colab": {
          "base_uri": "https://localhost:8080/"
        },
        "outputId": "74c79903-5e6b-4320-f607-8fbbbcf1bf25"
      },
      "outputs": [
        {
          "output_type": "stream",
          "name": "stdout",
          "text": [
            "1\n"
          ]
        }
      ],
      "source": [
        "arr3by3 = np.random.randint(0,10,5)\n",
        "print(np.bincount(arr3by3).argmax())"
      ]
    },
    {
      "cell_type": "markdown",
      "metadata": {
        "id": "hQNdstiuFNvb"
      },
      "source": [
        "#### 84. Extract all the contiguous 3x3 blocks from a random 10x10 matrix (★★★) \n",
        "(**hint**: stride\\_tricks.as\\_strided)"
      ]
    },
    {
      "cell_type": "code",
      "execution_count": null,
      "metadata": {
        "id": "nMDngceDFNvb"
      },
      "outputs": [],
      "source": []
    },
    {
      "cell_type": "markdown",
      "metadata": {
        "id": "bnnv38J_FNvb"
      },
      "source": [
        "#### 85. Create a 2D array subclass such that Z\\[i,j\\] == Z\\[j,i\\] (★★★) \n",
        "(**hint**: class method)"
      ]
    },
    {
      "cell_type": "code",
      "execution_count": null,
      "metadata": {
        "id": "CoXKR1sqFNvc"
      },
      "outputs": [],
      "source": []
    },
    {
      "cell_type": "markdown",
      "metadata": {
        "id": "4pzxgPU6FNvc"
      },
      "source": [
        "#### 86. Consider a set of p matrices wich shape (n,n) and a set of p vectors with shape (n,1). How to compute the sum of of the p matrix products at once? (result has shape (n,1)) (★★★) \n",
        "(**hint**: np.tensordot)"
      ]
    },
    {
      "cell_type": "code",
      "execution_count": null,
      "metadata": {
        "id": "JfJmI65EFNvc"
      },
      "outputs": [],
      "source": []
    },
    {
      "cell_type": "markdown",
      "metadata": {
        "id": "_ncW5ZgTFNvc"
      },
      "source": [
        "#### 87. Consider a 16x16 array, how to get the block-sum (block size is 4x4)? (★★★) \n",
        "(**hint**: np.add.reduceat)"
      ]
    },
    {
      "cell_type": "code",
      "execution_count": null,
      "metadata": {
        "id": "hK-TCmJmFNvc"
      },
      "outputs": [],
      "source": []
    },
    {
      "cell_type": "markdown",
      "metadata": {
        "id": "ASmP_ORUFNvc"
      },
      "source": [
        "#### 88. How to implement the Game of Life using numpy arrays? (★★★)"
      ]
    },
    {
      "cell_type": "code",
      "execution_count": null,
      "metadata": {
        "id": "71I-HfmWFNvc"
      },
      "outputs": [],
      "source": []
    },
    {
      "cell_type": "markdown",
      "metadata": {
        "id": "u-XrfP7tFNvc"
      },
      "source": [
        "#### 89. How to get the n largest values of an array (★★★) \n",
        "(**hint**: np.argsort | np.argpartition)"
      ]
    },
    {
      "cell_type": "code",
      "execution_count": 136,
      "metadata": {
        "id": "jTU-6gJkFNvc",
        "colab": {
          "base_uri": "https://localhost:8080/"
        },
        "outputId": "1566e1f3-8f3e-47dc-b582-8bd3f67b158a"
      },
      "outputs": [
        {
          "output_type": "stream",
          "name": "stdout",
          "text": [
            "Type n =5\n",
            "[9 9 9 9 9]\n"
          ]
        }
      ],
      "source": [
        "arrXL = np.random.randint(0,10,50000)\n",
        "n=int(input(\"Type n =\"))\n",
        "print (arrXL[np.argsort(arrXL)[-n:]])"
      ]
    },
    {
      "cell_type": "markdown",
      "metadata": {
        "id": "5pTFWrPpFNvd"
      },
      "source": [
        "#### 90. Given an arbitrary number of vectors, build the cartesian product (every combinations of every item) (★★★) \n",
        "(**hint**: np.indices)"
      ]
    },
    {
      "cell_type": "code",
      "execution_count": null,
      "metadata": {
        "scrolled": true,
        "id": "PXmXVwF5FNvd"
      },
      "outputs": [],
      "source": []
    },
    {
      "cell_type": "markdown",
      "metadata": {
        "id": "tP9ZA74TFNvd"
      },
      "source": [
        "#### 91. How to create a record array from a regular array? (★★★) \n",
        "(**hint**: np.core.records.fromarrays)"
      ]
    },
    {
      "cell_type": "code",
      "execution_count": null,
      "metadata": {
        "id": "0pI2PgGAFNvd"
      },
      "outputs": [],
      "source": []
    },
    {
      "cell_type": "markdown",
      "metadata": {
        "id": "6t_QNRFUFNvd"
      },
      "source": [
        "#### 92. Consider a large vector Z, compute Z to the power of 3 using 3 different methods (★★★) \n",
        "(**hint**: np.power, \\*, np.einsum)"
      ]
    },
    {
      "cell_type": "code",
      "execution_count": null,
      "metadata": {
        "id": "GJjdEVB0FNvd"
      },
      "outputs": [],
      "source": []
    },
    {
      "cell_type": "markdown",
      "metadata": {
        "id": "o_Radx4rFNvd"
      },
      "source": [
        "#### 93. Consider two arrays A and B of shape (8,3) and (2,2). How to find rows of A that contain elements of each row of B regardless of the order of the elements in B? (★★★) \n",
        "(**hint**: np.where)"
      ]
    },
    {
      "cell_type": "code",
      "execution_count": null,
      "metadata": {
        "id": "13a59o9AFNvd"
      },
      "outputs": [],
      "source": []
    },
    {
      "cell_type": "markdown",
      "metadata": {
        "id": "jK9Ujs8bFNvd"
      },
      "source": [
        "#### 94. Considering a 10x3 matrix, extract rows with unequal values (e.g. \\[2,2,3\\]) (★★★)"
      ]
    },
    {
      "cell_type": "code",
      "execution_count": null,
      "metadata": {
        "id": "K9I0l8WcFNvd"
      },
      "outputs": [],
      "source": []
    },
    {
      "cell_type": "markdown",
      "metadata": {
        "id": "cqf6_vMHFNve"
      },
      "source": [
        "#### 95. Convert a vector of ints into a matrix binary representation (★★★) \n",
        "(**hint**: np.unpackbits)"
      ]
    },
    {
      "cell_type": "code",
      "execution_count": null,
      "metadata": {
        "id": "rscMMzvuFNve"
      },
      "outputs": [],
      "source": []
    },
    {
      "cell_type": "markdown",
      "metadata": {
        "id": "shTuWkdrFNve"
      },
      "source": [
        "#### 96. Given a two dimensional array, how to extract unique rows? (★★★) \n",
        "(**hint**: np.ascontiguousarray)"
      ]
    },
    {
      "cell_type": "code",
      "execution_count": null,
      "metadata": {
        "id": "2Vsj7eYdFNve"
      },
      "outputs": [],
      "source": []
    },
    {
      "cell_type": "markdown",
      "metadata": {
        "id": "NqmwaFvdFNve"
      },
      "source": [
        "#### 97. Considering 2 vectors A & B, write the einsum equivalent of inner, outer, sum, and mul function (★★★) \n",
        "(**hint**: np.einsum)"
      ]
    },
    {
      "cell_type": "code",
      "execution_count": null,
      "metadata": {
        "id": "6EBzUqcOFNve"
      },
      "outputs": [],
      "source": []
    },
    {
      "cell_type": "markdown",
      "metadata": {
        "id": "153z38xTFNve"
      },
      "source": [
        "#### 98. Considering a path described by two vectors (X,Y), how to sample it using equidistant samples (★★★)? \n",
        "(**hint**: np.cumsum, np.interp)"
      ]
    },
    {
      "cell_type": "code",
      "execution_count": null,
      "metadata": {
        "collapsed": true,
        "id": "AuFy4lIUFNve"
      },
      "outputs": [],
      "source": []
    },
    {
      "cell_type": "markdown",
      "metadata": {
        "id": "Kh6dBmY1FNve"
      },
      "source": [
        "#### 99. Given an integer n and a 2D array X, select from X the rows which can be interpreted as draws from a multinomial distribution with n degrees, i.e., the rows which only contain integers and which sum to n. (★★★) \n",
        "(**hint**: np.logical\\_and.reduce, np.mod)"
      ]
    },
    {
      "cell_type": "code",
      "execution_count": null,
      "metadata": {
        "id": "O5MJfrwNFNve"
      },
      "outputs": [],
      "source": []
    },
    {
      "cell_type": "markdown",
      "metadata": {
        "id": "YLA7Uye-FNvf"
      },
      "source": [
        "#### 100. Compute bootstrapped 95% confidence intervals for the mean of a 1D array X (i.e., resample the elements of an array with replacement N times, compute the mean of each sample, and then compute percentiles over the means). (★★★) \n",
        "(**hint**: np.percentile)"
      ]
    },
    {
      "cell_type": "code",
      "execution_count": null,
      "metadata": {
        "id": "Bpjvh-AjFNvf"
      },
      "outputs": [],
      "source": []
    }
  ],
  "metadata": {
    "kernelspec": {
      "display_name": "Python 3",
      "language": "python",
      "name": "python3"
    },
    "language_info": {
      "codemirror_mode": {
        "name": "ipython",
        "version": 3
      },
      "file_extension": ".py",
      "mimetype": "text/x-python",
      "name": "python",
      "nbconvert_exporter": "python",
      "pygments_lexer": "ipython3",
      "version": "3.8.3"
    },
    "colab": {
      "provenance": [],
      "collapsed_sections": [
        "Tkw2ol1qFNvK",
        "16WcEr18FNvK",
        "-n9WU3PRFNvT",
        "S2Pd6R8SFNvX",
        "OWNS7YEqFNvY",
        "-6AmDP56FNvY",
        "K2NGtyH-FNvZ",
        "3DTg6ZpFFNva",
        "hQNdstiuFNvb",
        "bnnv38J_FNvb",
        "4pzxgPU6FNvc",
        "_ncW5ZgTFNvc",
        "ASmP_ORUFNvc",
        "5pTFWrPpFNvd",
        "tP9ZA74TFNvd",
        "6t_QNRFUFNvd",
        "o_Radx4rFNvd",
        "jK9Ujs8bFNvd",
        "cqf6_vMHFNve",
        "shTuWkdrFNve",
        "NqmwaFvdFNve",
        "153z38xTFNve",
        "Kh6dBmY1FNve",
        "YLA7Uye-FNvf"
      ],
      "include_colab_link": true
    }
  },
  "nbformat": 4,
  "nbformat_minor": 0
}